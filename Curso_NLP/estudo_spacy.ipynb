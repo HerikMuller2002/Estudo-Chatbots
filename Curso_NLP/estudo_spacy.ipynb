{
 "cells": [
  {
   "attachments": {},
   "cell_type": "markdown",
   "metadata": {},
   "source": [
    "# **Spacy**\n",
    "\n",
    "---\n",
    "### Modelos:\n",
    "A biblioteca _Spacy_ Possui diversos modelos pré-treinados para realizar diversos tipos de tarefas.\n",
    "\n",
    "Os modelos são divididos em:\n",
    "1. Pequeno - 21 mb\n",
    "    * Os modelos \"pequenos\" geralmente possuem menos recursos e são mais rápidos, mas também são menos precisos. Eles podem ser úteis para tarefas básicas, como identificar entidades nomeadas em textos simples.\n",
    "\n",
    "2. Médio - 48 mb\n",
    "    * Os modelos \"médios\" geralmente possuem mais recursos e são mais precisos. Eles podem lidar com tarefas mais complexas, como o reconhecimento de relação entre entidades nomeadas em textos mais longos.\n",
    "\n",
    "3. Grande - 550 mb\n",
    "    * Os modelos \"grandes\" são os mais poderosos em termos de recursos e precisão, mas também os mais lentos em relação ao processamento. Eles são capazes de lidar com as tarefas mais complexas de PLN, como a análise sintática de textos longos e a identificação de sentimentos.\n",
    "\n",
    "---\n",
    "\n",
    "### Pipeline DOC:\n",
    "O método nlp produz um objeto Doc, que é processado de acordo com um pipeline.\n",
    "\n",
    "![\"pipeline\"](Curso_NLP\\img\\Untitled.png)"
   ]
  },
  {
   "cell_type": "code",
   "execution_count": null,
   "metadata": {
    "vscode": {
     "languageId": "plaintext"
    }
   },
   "outputs": [],
   "source": []
  }
 ],
 "metadata": {
  "language_info": {
   "name": "python"
  },
  "orig_nbformat": 4
 },
 "nbformat": 4,
 "nbformat_minor": 2
}
